{
  "nbformat": 4,
  "nbformat_minor": 0,
  "metadata": {
    "colab": {
      "name": "Aula14 Desafios.ipynb",
      "provenance": [],
      "collapsed_sections": [],
      "authorship_tag": "ABX9TyOK+I5YJ1JjBzeQ6qqBf677",
      "include_colab_link": true
    },
    "kernelspec": {
      "name": "python3",
      "display_name": "Python 3"
    }
  },
  "cells": [
    {
      "cell_type": "markdown",
      "metadata": {
        "id": "view-in-github",
        "colab_type": "text"
      },
      "source": [
        "<a href=\"https://colab.research.google.com/github/alvb-alexandre/Hello-world/blob/master/Aula14_Desafios.ipynb\" target=\"_parent\"><img src=\"https://colab.research.google.com/assets/colab-badge.svg\" alt=\"Open In Colab\"/></a>"
      ]
    },
    {
      "cell_type": "markdown",
      "metadata": {
        "id": "VBQLWL_UQtM6",
        "colab_type": "text"
      },
      "source": [
        "DESAFIO 56"
      ]
    },
    {
      "cell_type": "code",
      "metadata": {
        "id": "s-TPAOBZ0jlQ",
        "colab_type": "code",
        "colab": {
          "base_uri": "https://localhost:8080/",
          "height": 118
        },
        "outputId": "e41f0d51-ba9c-4fa9-e2f5-af857e8ef623"
      },
      "source": [
        "s = '0'\n",
        "while s != 'M' and s != 'F':\n",
        "  s = str(input('Informe o seu sexo [M/F]? ')).upper()\n",
        "  if s != 'M' and s != 'F':\n",
        "    print('Dado invalido. Tente novamente.')\n",
        "print(s)"
      ],
      "execution_count": 63,
      "outputs": [
        {
          "output_type": "stream",
          "text": [
            "Qual eh o seu sexo? s\n",
            "Dado invalido. Tente novamente.\n",
            "Qual eh o seu sexo? e\n",
            "Dado invalido. Tente novamente.\n",
            "Qual eh o seu sexo? M\n",
            "M\n"
          ],
          "name": "stdout"
        }
      ]
    },
    {
      "cell_type": "markdown",
      "metadata": {
        "id": "pz9EM4bonXyg",
        "colab_type": "text"
      },
      "source": [
        "Desafio 57"
      ]
    },
    {
      "cell_type": "code",
      "metadata": {
        "id": "fai9GYYRTNwq",
        "colab_type": "code",
        "colab": {}
      },
      "source": [
        "import random\n",
        "num_random = int(random.randint(9,10))\n",
        "num = -1\n",
        "n = 0\n",
        "while num != num_random:\n",
        "  num = int(input('Tente adivinhar o numero em que o computador esta pensando: '))\n",
        "  n += 1\n",
        "print('O numero correto eh {} e foram necessarias {} tentativas.'.format(num, n))\n"
      ],
      "execution_count": null,
      "outputs": []
    },
    {
      "cell_type": "markdown",
      "metadata": {
        "id": "WwN-XyiZnTVq",
        "colab_type": "text"
      },
      "source": [
        "Desafio 58"
      ]
    },
    {
      "cell_type": "code",
      "metadata": {
        "id": "2vbBAqCEa3t5",
        "colab_type": "code",
        "colab": {}
      },
      "source": [
        "from time import sleep\n",
        "v1 = int(input('Digite o primeiro valor: '))\n",
        "v2 = int(input('Digite o segundo valor: '))\n",
        "menu = 0\n",
        "while menu !=5:\n",
        "  print('\\n[1] somar \\n[2] multiplicar\\n[3] maior\\n[4] novos numeros\\n[5] sair do programa\\n\\n')\n",
        "  menu = int(input('Selecione uma opcao:  '))\n",
        "  if menu == 1:\n",
        "    print('\\nA soma entre {} e {} eh {}'.format(v1,v2,v1 + v2))\n",
        "  elif menu == 2:\n",
        "    print('\\nA multiplicacao entre {} e {} eh {}'.format(v1,v2,v1 * v2))\n",
        "  elif menu == 3:\n",
        "    if v1 > v2:\n",
        "      print('\\nEntre {} e {}, {} eh o maior'.format(v1,v2,v1))\n",
        "    elif v2 > v1:\n",
        "      print('\\nEntre {} e {}, {} eh o maior'.format(v2,v1,v2))\n",
        "    else:\n",
        "      print('\\nOs numeros sao iguais.')\n",
        "  elif menu == 4:\n",
        "    v1 = int(input('Digite o primeiro valor: '))\n",
        "    v2 = int(input('Digite o segundo valor: '))\n",
        "    print('\\n\\n')\n",
        "  elif menu == 5:\n",
        "    print('Encerrando o programa: >>>>>>>>>>')\n",
        "  else:\n",
        "    print('Valor invalido. Tente novamente.')\n",
        "  sleep(2)\n",
        "print('-=-' * 20)\n",
        "print('Programa encerrado.........')"
      ],
      "execution_count": null,
      "outputs": []
    },
    {
      "cell_type": "markdown",
      "metadata": {
        "id": "wVJXzJ_2nRGq",
        "colab_type": "text"
      },
      "source": [
        "Desafio 59"
      ]
    },
    {
      "cell_type": "code",
      "metadata": {
        "id": "ozKMiRjIu4op",
        "colab_type": "code",
        "colab": {}
      },
      "source": [
        "n = int(input('Digite um numero para saber seu valor fatorial: '))\n",
        "c = n\n",
        "f = 1\n",
        "while c >= 1:\n",
        "    f *= c\n",
        "    c -= 1\n",
        "print(f)\n"
      ],
      "execution_count": null,
      "outputs": []
    },
    {
      "cell_type": "markdown",
      "metadata": {
        "id": "TWZD6o8wnLMN",
        "colab_type": "text"
      },
      "source": [
        "Desafio 60"
      ]
    },
    {
      "cell_type": "code",
      "metadata": {
        "id": "b5PoK6AMP3Ti",
        "colab_type": "code",
        "colab": {}
      },
      "source": [
        "n = int(input('Digite um numero para sabe seu valor fatorial: '))\n",
        "f = 1\n",
        "for c in range(n, 1, -1):\n",
        "  f *= c\n",
        "print(f)"
      ],
      "execution_count": null,
      "outputs": []
    },
    {
      "cell_type": "markdown",
      "metadata": {
        "id": "kP8osKuPjN4f",
        "colab_type": "text"
      },
      "source": [
        "Desafio 61 e 62 ler A1 e i de uma PA e mostrar os 10 primeiros termos\n",
        "\n"
      ]
    },
    {
      "cell_type": "code",
      "metadata": {
        "id": "GKTHwb0KjqZO",
        "colab_type": "code",
        "colab": {}
      },
      "source": [
        "a1 = int(input('Digite o primeiro termo de uma PA: '))\n",
        "i = int(input('Digite o valor da razao dessa PA: '))\n",
        "n = 10\n",
        "c = 0\n",
        "while n != 0: \n",
        "  while c < n:\n",
        "    an = a1 + c*i\n",
        "    c += 1\n",
        "    print(an)\n",
        "  k = int(input('Quantos mais termos deseja mostrar? '))\n",
        "  if k != 0:\n",
        "    n = n + k\n",
        "  else:\n",
        "    n = 0\n",
        "print('FIM')"
      ],
      "execution_count": null,
      "outputs": []
    },
    {
      "cell_type": "markdown",
      "metadata": {
        "id": "jFyuGRyjnfiJ",
        "colab_type": "text"
      },
      "source": [
        "Desafio 63"
      ]
    },
    {
      "cell_type": "code",
      "metadata": {
        "id": "IbNn8RlOqwU8",
        "colab_type": "code",
        "colab": {
          "base_uri": "https://localhost:8080/",
          "height": 50
        },
        "outputId": "7746e692-b782-44d6-aa72-534840eaa9e1"
      },
      "source": [
        "n = int(input('Digite um numero: '))\n",
        "i = 0\n",
        "a = 0\n",
        "b = 0\n",
        "c = 1\n",
        "print(a, end=' ')\n",
        "while i < (n)/2 - 1:\n",
        "  b += c\n",
        "  print(b, end=' ')\n",
        "  c += a\n",
        "  print(c, end=' ')\n",
        "  a = b + c\n",
        "  i += 1\n"
      ],
      "execution_count": 39,
      "outputs": [
        {
          "output_type": "stream",
          "text": [
            "Digite um numero: 7\n",
            "0 1 1 2 3 5 8 "
          ],
          "name": "stdout"
        }
      ]
    },
    {
      "cell_type": "markdown",
      "metadata": {
        "id": "rcPk_Naj90ho",
        "colab_type": "text"
      },
      "source": [
        "Desafio 64"
      ]
    },
    {
      "cell_type": "code",
      "metadata": {
        "id": "xImbWt8d9zKT",
        "colab_type": "code",
        "colab": {
          "base_uri": "https://localhost:8080/",
          "height": 118
        },
        "outputId": "29681c2b-4ffb-41f2-be6f-4bdfa0c11d1c"
      },
      "source": [
        "soma = 0\n",
        "n = 0\n",
        "i = 0\n",
        "while n != 999:\n",
        "  n = int(input('Digite um numero: '))\n",
        "  soma += n\n",
        "  i +=1\n",
        "print('Foram digitados {} numeros.'.format(i))\n",
        "print('A soma desses numeros, excluindo o flag eh {}.'.format(soma - 999))  "
      ],
      "execution_count": 47,
      "outputs": [
        {
          "output_type": "stream",
          "text": [
            "Digite um numero: 1\n",
            "Digite um numero: 2\n",
            "Digite um numero: 3\n",
            "Digite um numero: 999\n",
            "Foram digitados 4 numeros.\n",
            "A soma desses numeros, excluindo o flag eh 6.\n"
          ],
          "name": "stdout"
        }
      ]
    },
    {
      "cell_type": "markdown",
      "metadata": {
        "id": "VgpFPkQU_tt8",
        "colab_type": "text"
      },
      "source": [
        "Desafio 65"
      ]
    },
    {
      "cell_type": "code",
      "metadata": {
        "id": "NjTbsxBP_vkp",
        "colab_type": "code",
        "colab": {
          "base_uri": "https://localhost:8080/",
          "height": 202
        },
        "outputId": "7964ab90-e368-43cb-e420-2f5a987c1e03"
      },
      "source": [
        "pergunta = 'S'\n",
        "soma = 0\n",
        "i = 0\n",
        "maior = 0\n",
        "menor = 100000000000000\n",
        "while pergunta == 'S':\n",
        "  num = int(input('Digite um numero: '))\n",
        "  if num > maior:\n",
        "    maior = num\n",
        "  if num < menor:\n",
        "    menor = num\n",
        "  soma += num\n",
        "  i += 1 \n",
        "  media = float(soma / i)\n",
        "  pergunta = str(input('Deseja continuar [S/N]? ')).upper()\n",
        "print('Foram digitados {} numeros e a media desses numeros eh {:.2f}'.format(i, media))\n",
        "print(f'O maior numero eh {maior}.')\n",
        "print(f'O menor numero eh {menor}.')\n"
      ],
      "execution_count": 62,
      "outputs": [
        {
          "output_type": "stream",
          "text": [
            "Digite um numero: 10\n",
            "Deseja continuar [S/N]? s\n",
            "Digite um numero: 3\n",
            "Deseja continuar [S/N]? s\n",
            "Digite um numero: 5\n",
            "Deseja continuar [S/N]? s\n",
            "Digite um numero: 15\n",
            "Deseja continuar [S/N]? n\n",
            "Foram digitados 4 numeros e a media desses numeros eh 8.25\n",
            "O maior numero eh 15.\n",
            "O menor numero eh 3.\n"
          ],
          "name": "stdout"
        }
      ]
    }
  ]
}