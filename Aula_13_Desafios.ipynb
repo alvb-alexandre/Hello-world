{
  "nbformat": 4,
  "nbformat_minor": 0,
  "metadata": {
    "colab": {
      "name": "Aula 13 Desafios.ipynb",
      "provenance": [],
      "collapsed_sections": [],
      "authorship_tag": "ABX9TyNqa4giq0z4MIiE+kbMUB0X",
      "include_colab_link": true
    },
    "kernelspec": {
      "name": "python3",
      "display_name": "Python 3"
    }
  },
  "cells": [
    {
      "cell_type": "markdown",
      "metadata": {
        "id": "view-in-github",
        "colab_type": "text"
      },
      "source": [
        "<a href=\"https://colab.research.google.com/github/alvb-alexandre/Hello-world/blob/master/Aula_13_Desafios.ipynb\" target=\"_parent\"><img src=\"https://colab.research.google.com/assets/colab-badge.svg\" alt=\"Open In Colab\"/></a>"
      ]
    },
    {
      "cell_type": "code",
      "metadata": {
        "id": "kuxBh9cmuvsU",
        "colab_type": "code",
        "colab": {
          "base_uri": "https://localhost:8080/",
          "height": 218
        },
        "outputId": "09531b9a-1d59-4b27-a64d-da196f9cbf43"
      },
      "source": [
        "import time\n",
        "n = str(input('Tecle enter para iniciar uma contagem regressiva'))\n",
        "for c in range( 10, 0, -1):\n",
        "  print(c)\n",
        "  time.sleep(1)\n",
        "print('Boom')"
      ],
      "execution_count": 2,
      "outputs": [
        {
          "output_type": "stream",
          "text": [
            "Tecle enter para iniciar uma contagem regressiva\n",
            "10\n",
            "9\n",
            "8\n",
            "7\n",
            "6\n",
            "5\n",
            "4\n",
            "3\n",
            "2\n",
            "1\n",
            "Boom\n"
          ],
          "name": "stdout"
        }
      ]
    },
    {
      "cell_type": "code",
      "metadata": {
        "id": "86cfI4dzwZ7h",
        "colab_type": "code",
        "colab": {}
      },
      "source": [
        "for c in range(1, 51):\n",
        "  if c%2 == 0:\n",
        "    print(c)\n"
      ],
      "execution_count": null,
      "outputs": []
    },
    {
      "cell_type": "code",
      "metadata": {
        "id": "jnYu6G1kwv_r",
        "colab_type": "code",
        "colab": {
          "base_uri": "https://localhost:8080/",
          "height": 34
        },
        "outputId": "ed84bc15-0d4a-4452-98e2-65e02d25c469"
      },
      "source": [
        "n = 0\n",
        "for c in range( 0, 501):\n",
        "  if c % 3 == 0:\n",
        "    n = c + c \n",
        "print(n)\n"
      ],
      "execution_count": 18,
      "outputs": [
        {
          "output_type": "stream",
          "text": [
            "996\n"
          ],
          "name": "stdout"
        }
      ]
    },
    {
      "cell_type": "code",
      "metadata": {
        "id": "z88Ca-v8zKKZ",
        "colab_type": "code",
        "colab": {
          "base_uri": "https://localhost:8080/",
          "height": 202
        },
        "outputId": "8ebabab4-11db-486d-8aac-5f467f8495bc"
      },
      "source": [
        "n = int(input('Digite um numero para saber sua tabuada:'))\n",
        "for c in range(1,11):\n",
        "  print(('{} x {} = {}'.format(n,c,n*c)))"
      ],
      "execution_count": 21,
      "outputs": [
        {
          "output_type": "stream",
          "text": [
            "Digite um numero para saber sua tabuada:2\n",
            "2 x 1 = 2\n",
            "2 x 2 = 4\n",
            "2 x 3 = 6\n",
            "2 x 4 = 8\n",
            "2 x 5 = 10\n",
            "2 x 6 = 12\n",
            "2 x 7 = 14\n",
            "2 x 8 = 16\n",
            "2 x 9 = 18\n",
            "2 x 10 = 20\n"
          ],
          "name": "stdout"
        }
      ]
    },
    {
      "cell_type": "code",
      "metadata": {
        "id": "v5WmgY8m3BN1",
        "colab_type": "code",
        "colab": {
          "base_uri": "https://localhost:8080/",
          "height": 235
        },
        "outputId": "03c716cb-25d2-4167-9826-899900f9fa55"
      },
      "source": [
        "n = 0\n",
        "for c in range(1, 7):\n",
        "  num = int(input('Numero:\\n'))\n",
        "  if num % 2 == 0:\n",
        "    n += num\n",
        "print(n)\n"
      ],
      "execution_count": 32,
      "outputs": [
        {
          "output_type": "stream",
          "text": [
            "Numero:\n",
            "1\n",
            "Numero:\n",
            "9\n",
            "Numero:\n",
            "8\n",
            "Numero:\n",
            "6\n",
            "Numero:\n",
            "7\n",
            "Numero:\n",
            "100\n",
            "114\n"
          ],
          "name": "stdout"
        }
      ]
    },
    {
      "cell_type": "code",
      "metadata": {
        "id": "eFYtjgvr7UKz",
        "colab_type": "code",
        "colab": {
          "base_uri": "https://localhost:8080/",
          "height": 101
        },
        "outputId": "6a93bb20-4bf6-4087-fdd1-47b8a2d3a45b"
      },
      "source": [
        "A1 = int(input('Digite o primeiro termo da PA:\\n'))\n",
        "i = int(input('Digite a razao da PA:\\n'))\n",
        "s = A1\n",
        "for c in range(A1, A1 + 9*i, i):\n",
        "  s += i\n",
        "print(s)\n"
      ],
      "execution_count": 39,
      "outputs": [
        {
          "output_type": "stream",
          "text": [
            "Digite o primeiro termo da PA:\n",
            "10\n",
            "Digite a razao da PA:\n",
            "10\n",
            "100\n"
          ],
          "name": "stdout"
        }
      ]
    },
    {
      "cell_type": "code",
      "metadata": {
        "id": "RH0fqPfq_BeQ",
        "colab_type": "code",
        "colab": {
          "base_uri": "https://localhost:8080/",
          "height": 101
        },
        "outputId": "d928cc0a-ea13-43f2-ab37-7ee7b6d44b2a"
      },
      "source": [
        "A1 = int(input('Digite o primeiro termo da PA: \\n'))\n",
        "i = int(input('Digite a razao da PA:\\n'))\n",
        "s = A1\n",
        "for c in range(1, 10):\n",
        "  s += i\n",
        "print(s)\n"
      ],
      "execution_count": 42,
      "outputs": [
        {
          "output_type": "stream",
          "text": [
            "Digite o primeiro termo da PA: \n",
            "10\n",
            "Digite a razao da PA:\n",
            "10\n",
            "100\n"
          ],
          "name": "stdout"
        }
      ]
    },
    {
      "cell_type": "code",
      "metadata": {
        "id": "T9sOu1afAUZw",
        "colab_type": "code",
        "colab": {
          "base_uri": "https://localhost:8080/",
          "height": 67
        },
        "outputId": "2991d6ca-8ae0-4b75-979c-834b295be8b3"
      },
      "source": [
        "num = int(input('Digite um numero:\\n'))\n",
        "s = 0\n",
        "for c in range(2, num + 1):\n",
        "  if num % c == 0:\n",
        "    s += 1\n",
        "if s > 1:\n",
        "  print('{} nao eh um numero primo'.format(num))\n",
        "else:\n",
        "  print('{} eh um numero primo'.format(num))"
      ],
      "execution_count": 50,
      "outputs": [
        {
          "output_type": "stream",
          "text": [
            "Digite um numero:\n",
            "113\n",
            "113 eh um numero primo\n"
          ],
          "name": "stdout"
        }
      ]
    },
    {
      "cell_type": "code",
      "metadata": {
        "id": "scpLkQmPCTNw",
        "colab_type": "code",
        "colab": {}
      },
      "source": [
        "from datetime import datetime\n",
        "t = datetime.now()\n",
        "#for c in range(1,8):\n",
        "  #idade = int(input('Digite o ano de nascimento da pessoa numero {}: '.format(c)))\n",
        "print(t)"
      ],
      "execution_count": null,
      "outputs": []
    }
  ]
}